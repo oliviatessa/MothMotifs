{
 "cells": [
  {
   "cell_type": "code",
   "execution_count": 1,
   "metadata": {},
   "outputs": [],
   "source": [
    "import os \n",
    "import pickle \n",
    "import numpy as np\n",
    "import math\n",
    "\n",
    "import pandas as pd "
   ]
  },
  {
   "attachments": {},
   "cell_type": "markdown",
   "metadata": {},
   "source": [
    "# Load the pruned networks "
   ]
  },
  {
   "cell_type": "code",
   "execution_count": 2,
   "metadata": {},
   "outputs": [],
   "source": [
    "f = 'pruned_bias'\n",
    "timestamp = '2022_11_05__01_04_10'\n",
    "\n",
    "#Load the networks\n",
    "sparseNetsFile = 'sparseNetworks.pkl'\n",
    "sparseNetworks = pickle.load(open(os.path.join(f, timestamp, sparseNetsFile), 'rb'))\n",
    "\n",
    "#Load the losses\n",
    "losses = pickle.load(open(os.path.join(f, timestamp, 'pruneLosses.pkl'),'rb'))\n",
    "\n",
    "losses = np.array(losses)\n",
    "losses = np.transpose(losses)\n",
    "\n",
    "lossesDF = pd.DataFrame(losses, columns=['0%', '15%', '25%', '35%', '45%', '55%', '65%', '75%', '85%', '90%', '91%', \n",
    "                                        '92%', '93%', '94%', '95%', '96%', '97%', '98%' ])"
   ]
  },
  {
   "attachments": {},
   "cell_type": "markdown",
   "metadata": {},
   "source": [
    "# Find the masks"
   ]
  },
  {
   "cell_type": "code",
   "execution_count": 3,
   "metadata": {},
   "outputs": [],
   "source": [
    "masks = []\n",
    "for i in range(len(sparseNetworks)):\n",
    "    net = sparseNetworks[i]\n",
    "    sparsity = net[0]\n",
    "    net = net[1]\n",
    "    maskNet = []\n",
    "    for i in np.arange(0,len(net),2):\n",
    "        m = np.abs(net[i]) * np.reciprocal(np.abs(net[i]), where = np.abs(net[i])!=0)\n",
    "        m = np.round(m)\n",
    "        mask = m.astype(int)\n",
    "        \n",
    "        #Add bias term\n",
    "        biasRow = np.abs(net[i+1]) * np.reciprocal(np.abs(net[i+1]), where = np.abs(net[i+1])!=0)\n",
    "        mask = np.vstack([mask, biasRow])\n",
    "        \n",
    "        maskNet.append(mask)\n",
    "        \n",
    "    \n",
    "    masks.append((sparsity, maskNet))"
   ]
  },
  {
   "attachments": {},
   "cell_type": "markdown",
   "metadata": {},
   "source": [
    "# Find the motif z-score"
   ]
  },
  {
   "attachments": {},
   "cell_type": "markdown",
   "metadata": {},
   "source": [
    "## Motif counting functions"
   ]
  },
  {
   "attachments": {},
   "cell_type": "markdown",
   "metadata": {},
   "source": [
    "### First-order motifs"
   ]
  },
  {
   "cell_type": "code",
   "execution_count": 4,
   "metadata": {},
   "outputs": [],
   "source": [
    "def fom(m):\n",
    "        '''\n",
    "        Calculates the number of first-order motifs in the network (equivalent to the number of edges).\n",
    "        \n",
    "        Input(s): the mask of the pruned network, as a list of matrices\n",
    "        Returns: FOM (total number of first-order motifs), FOMList (Number of weights and number of bias connections\n",
    "                in each layer)\n",
    "        '''\n",
    "        FOM = 0\n",
    "        FOMList = [[0,0],[0,0],[0,0],[0,0],[0,0]] #[[Num weights, num biases]] in each layer\n",
    "\n",
    "        for i in range(len(m)): \n",
    "                #Count number of connections between weights\n",
    "                w_connections = np.count_nonzero(m[i][0:-1])\n",
    "                FOMList[i][0] = w_connections\n",
    "                #Count number of connections from bias\n",
    "                b_connections = np.count_nonzero(m[i][-1])\n",
    "                FOMList[i][1] = b_connections\n",
    "\n",
    "                connections = w_connections + b_connections\n",
    "                FOM += connections\n",
    "        return FOM, FOMList"
   ]
  },
  {
   "attachments": {},
   "cell_type": "markdown",
   "metadata": {},
   "source": [
    "### Second-order motifs"
   ]
  },
  {
   "attachments": {},
   "cell_type": "markdown",
   "metadata": {},
   "source": [
    "#### Diverging"
   ]
  },
  {
   "cell_type": "code",
   "execution_count": 5,
   "metadata": {},
   "outputs": [],
   "source": [
    "def sodm(m):\n",
    "    '''\n",
    "    Calculates the number of second-order diverging motifs in the network.\n",
    "    Also calculates the remaining number of nodes in the network. \n",
    "        \n",
    "    Input(s): the mask of the pruned network, as a list of matrices\n",
    "    Returns: SODM (total number of second-order diverging motifs in the network), numFC (Number of remaining nodes \n",
    "        with downstream output)\n",
    "    '''\n",
    "    \n",
    "    SODM = 0\n",
    "    numFC = [0,0,0,0,0,0] #Number of remaining nodes with downstream output\n",
    "\n",
    "    for i in range(len(m)): \n",
    "        nodes = 0\n",
    "        #Calculate second-order diverging motifs\n",
    "        for row in m[i]:\n",
    "            n = np.count_nonzero(row)\n",
    "            if n >= 2:\n",
    "                SODM += math.factorial(n)/(math.factorial(2)*math.factorial(n-2))\n",
    "                    \n",
    "            #also calculate number of remaining nodes\n",
    "            if n > 0: \n",
    "                nodes += 1\n",
    "                    \n",
    "        numFC[i] = nodes\n",
    "            \n",
    "            #Count number of nodes in final layer \n",
    "        if i == 4: \n",
    "            nodes = 0 \n",
    "            for row in m[i].T:\n",
    "                n = np.count_nonzero(row)\n",
    "                if n > 0 :\n",
    "                    nodes += 1\n",
    "            numFC[i+1] = nodes\n",
    "    \n",
    "    return SODM, numFC"
   ]
  },
  {
   "attachments": {},
   "cell_type": "markdown",
   "metadata": {},
   "source": [
    "#### Converging"
   ]
  },
  {
   "cell_type": "code",
   "execution_count": 17,
   "metadata": {},
   "outputs": [],
   "source": [
    "def socm(m):\n",
    "    '''\n",
    "    Calculates the number of second-order converging motifs in the network.\n",
    "        \n",
    "    Input(s): the mask of the pruned network, as a list of matrices\n",
    "    Returns: SOCM (total number of second-order converging motifs in the network)\n",
    "    '''\n",
    "\n",
    "    SOCM = 0\n",
    "    numFCUS = [0,0,0,0,0,0]\n",
    "\n",
    "    for i in range(len(m)):\n",
    "        nodes = 0\n",
    "        #Calculate second-order converging motifs\n",
    "        for column in m[i].T:\n",
    "            n = np.count_nonzero(column)\n",
    "            if n >= 2:\n",
    "                SOCM += math.factorial(n)/(math.factorial(2)*math.factorial(n-2))\n",
    "\n",
    "            \n",
    "            #also calculate number of remaining nodes with upstream input, skip input \n",
    "            if n > 0: \n",
    "                nodes += 1\n",
    "                    \n",
    "        numFCUS[i+1] = nodes\n",
    "\n",
    "    return SOCM, numFCUS"
   ]
  },
  {
   "attachments": {},
   "cell_type": "markdown",
   "metadata": {},
   "source": [
    "#### Chain"
   ]
  },
  {
   "cell_type": "code",
   "execution_count": 7,
   "metadata": {},
   "outputs": [],
   "source": [
    "def sochain(m):\n",
    "    '''\n",
    "    Calculates the number of second-order chain motifs in the network.\n",
    "        \n",
    "    Input(s): the mask of the pruned network, as a list of matrices\n",
    "    Returns: SOChain (total number of second-order chain motifs in the network)\n",
    "    ''' \n",
    "    \n",
    "    SOChain = 0 \n",
    "    for i in range(len(m)): \n",
    "        #Calculate second-order chain motifs\n",
    "        if i != 4: \n",
    "            #Exclude the bias by excluding the last row\n",
    "            SOChain += np.count_nonzero(np.matmul(m[i][0:-1],m[i+1][0:-1]))\n",
    "            \n",
    "            #Add in the motifs from the bias terms \n",
    "            SOChain += np.count_nonzero(np.matmul(m[i][-1],m[i+1][0:-1]))\n",
    "        else: \n",
    "            pass\n",
    "\n",
    "    return SOChain"
   ]
  },
  {
   "attachments": {},
   "cell_type": "markdown",
   "metadata": {},
   "source": [
    "### Third-order motifs"
   ]
  },
  {
   "attachments": {},
   "cell_type": "markdown",
   "metadata": {},
   "source": [
    "#### Diverging"
   ]
  },
  {
   "cell_type": "code",
   "execution_count": 8,
   "metadata": {},
   "outputs": [],
   "source": [
    "def todm(m):\n",
    "    '''\n",
    "    Calculates the number of third-order diverging motifs in the network.\n",
    "        \n",
    "    Input(s): the mask of the pruned network, as a list of matrices\n",
    "    Returns: TODM (total number of third-order diverging motifs in the network)\n",
    "    '''\n",
    "\n",
    "    TODM = 0 \n",
    "    for i in range(len(m)): \n",
    "        #Calculate third-order diverging motifs\n",
    "        for row in m[i]:\n",
    "            n = np.count_nonzero(row)\n",
    "            if n >= 3:\n",
    "                TODM += math.factorial(n)/(math.factorial(3)*math.factorial(n-3))\n",
    "\n",
    "    return TODM"
   ]
  },
  {
   "attachments": {},
   "cell_type": "markdown",
   "metadata": {},
   "source": [
    "#### Converging"
   ]
  },
  {
   "cell_type": "code",
   "execution_count": 9,
   "metadata": {},
   "outputs": [],
   "source": [
    "def tocm(m):\n",
    "    '''\n",
    "    Calculates the number of third-order converging motifs in the network.\n",
    "        \n",
    "    Input(s): the mask of the pruned network, as a list of matrices\n",
    "    Returns: TOCM (total number of third-order converging motifs in the network)\n",
    "    '''\n",
    "\n",
    "    TOCM = 0 \n",
    "    for i in range(len(m)): \n",
    "        #Calculate third-order converging motifs \n",
    "        for column in m[i].T:\n",
    "            n = np.count_nonzero(column)\n",
    "            if n >= 3:\n",
    "                TOCM += math.factorial(n)/(math.factorial(2)*math.factorial(n-2))\n",
    "\n",
    "    return TOCM"
   ]
  },
  {
   "attachments": {},
   "cell_type": "markdown",
   "metadata": {},
   "source": [
    "#### Chain"
   ]
  },
  {
   "cell_type": "code",
   "execution_count": 10,
   "metadata": {},
   "outputs": [],
   "source": [
    "def tochain(m):\n",
    "    '''\n",
    "    Calculates the number of third-order chain motifs in the network.\n",
    "        \n",
    "    Input(s): the mask of the pruned network, as a list of matrices\n",
    "    Returns: TOChain (total number of third-order chain motifs in the network)\n",
    "    '''\n",
    "\n",
    "    TOChain = 0\n",
    "    for i in range(len(m)): \n",
    "        #Calculate third-order chain motifs \n",
    "        if i in (0,1,2): \n",
    "            #Count non-zero elements of (Layer 1 * Layer 2 * Layer 3)\n",
    "            #Exclude the bias by excluding the last row\n",
    "            m1 = np.matmul(m[i][0:-1],m[i+1][0:-1])\n",
    "            TOChain += np.count_nonzero(np.matmul(m1,m[i+2][0:-1]))\n",
    "                \n",
    "            #Add in the motifs from the bias terms \n",
    "            mbias = np.matmul(m[i][-1],m[i+1][0:-1])\n",
    "            TOChain += np.count_nonzero(np.matmul(mbias,m[i+2][0:-1]))\n",
    "        else: \n",
    "            pass\n",
    "\n",
    "    return TOChain"
   ]
  },
  {
   "attachments": {},
   "cell_type": "markdown",
   "metadata": {},
   "source": [
    "### Random networks"
   ]
  },
  {
   "attachments": {},
   "cell_type": "markdown",
   "metadata": {},
   "source": [
    "#### Build random network"
   ]
  },
  {
   "cell_type": "code",
   "execution_count": 11,
   "metadata": {},
   "outputs": [],
   "source": [
    "def buildRandomNet(numFC, FOMList):\n",
    "    '''\n",
    "    Builds randomly connected network with the same number of weights and bias connections as the real network. \n",
    "\n",
    "    Input(s): numFC (Number of remaining nodes with downstream output), FOMList (Number of weights and number of \n",
    "        bias connections in each layer)\n",
    "    Returns: the mask of the random network, as a list of matrices\n",
    "    '''\n",
    "    #random weight matrix = np.array(([1]*num connections between weights)+\n",
    "    #                       [0]*(num possible connections - num connections between weights))\n",
    "    #           numFC[0]-1 because we need to discount bias \n",
    "    r1 = np.array([1] * (FOMList[0][0]) + [0] * (((numFC[0]-1)*(numFC[1]-1))-(FOMList[0][0])))\n",
    "    #random bias matrix = np.array(([1]*num connections between bias and next nodes)+\n",
    "    #                       [0]*(num possible connections - num connections between bias and next nodes))\n",
    "\n",
    "    #There is always a live bias, so number of possible connections between bias and next\n",
    "    #   layer would be numFC[i+1]-1 (to remove bias).\n",
    "    r1b = np.array([1] * FOMList[0][1] + [0] * ((numFC[1]-1)-FOMList[0][1]))\n",
    "\n",
    "    r2 = np.array([1] * (FOMList[1][0]) + [0] * (((numFC[1]-1)*(numFC[2]-1))-(FOMList[1][0])))\n",
    "    r3 = np.array([1] * (FOMList[2][0]) + [0] * (((numFC[2]-1)*(numFC[3]-1))-(FOMList[2][0])))\n",
    "    r4 = np.array([1] * (FOMList[3][0]) + [0] * (((numFC[3]-1)*(numFC[4]-1))-(FOMList[3][0])))\n",
    "    r5 = np.array([1] * (FOMList[4][0]) + [0] * (((numFC[4]-1)*(numFC[5]))-(FOMList[4][0]))) #no bias in last layer\n",
    "\n",
    "    r2b = np.array([1] * FOMList[1][1] + [0] * ((numFC[2]-1)-FOMList[1][1]))\n",
    "    r3b = np.array([1] * FOMList[2][1] + [0] * ((numFC[3]-1)-FOMList[2][1]))\n",
    "    r4b = np.array([1] * FOMList[3][1] + [0] * ((numFC[4]-1)-FOMList[3][1]))\n",
    "    r5b = np.array([1] * FOMList[4][1] + [0] * ((numFC[5])-FOMList[4][1]))\n",
    "        \n",
    "    np.random.shuffle(r1)\n",
    "    np.random.shuffle(r2)\n",
    "    np.random.shuffle(r3)\n",
    "    np.random.shuffle(r4)\n",
    "    np.random.shuffle(r5)\n",
    "\n",
    "    np.random.shuffle(r1b)\n",
    "    np.random.shuffle(r2b)\n",
    "    np.random.shuffle(r3b)\n",
    "    np.random.shuffle(r4b)\n",
    "    np.random.shuffle(r5b)\n",
    "            \n",
    "    randomNet = [np.vstack([np.reshape(r1, (((numFC[0]-1),(numFC[1]-1)))),r1b]),\n",
    "                np.vstack([np.reshape(r2, (((numFC[1]-1),(numFC[2]-1)))),r2b]),\n",
    "                np.vstack([np.reshape(r3, (((numFC[2]-1),(numFC[3]-1)))),r3b]),\n",
    "                np.vstack([np.reshape(r4, (((numFC[3]-1),(numFC[4]-1)))),r4b]),\n",
    "                np.vstack([np.reshape(r5, (((numFC[4]-1),(numFC[5])))),r5b])]\n",
    "\n",
    "    return randomNet"
   ]
  },
  {
   "attachments": {},
   "cell_type": "markdown",
   "metadata": {},
   "source": [
    "#### Find motifs for random networks "
   ]
  },
  {
   "cell_type": "code",
   "execution_count": 12,
   "metadata": {},
   "outputs": [],
   "source": [
    "def randomNetMotifs(randomNet):\n",
    "    '''\n",
    "    Finds all of the motifs for the random network.\n",
    "\n",
    "    Input(s): the mask of the random network, as a list of matrices\n",
    "    Returns: rFOM (random first-order motifs), rFOMList (remaining connections in each layer), rSODM (random second-oder \n",
    "        diverging motifs), rSOCM (random second-order converging motifs), rSOChain (random second-order chain motifs), \n",
    "        rTODM (random third-order diverging motifs), rTOCM (random third-order converging motifs), rTOChain (random \n",
    "        third-order chain motifs)\n",
    "    '''\n",
    "\n",
    "    rFOM, rFOMList = fom(randomNet)\n",
    "    rSODM, rnumFC = sodm(randomNet)\n",
    "    rSOCM, rnumFCUS = socm(randomNet)\n",
    "    rSOChain = sochain(randomNet)\n",
    "    rTODM = todm(randomNet)\n",
    "    rTOCM = tocm(randomNet)\n",
    "    rTOChain = tochain(randomNet)\n",
    "    \n",
    "    return rFOM, rFOMList, rSODM, rSOCM, rSOChain, rTODM, rTOCM, rTOChain"
   ]
  },
  {
   "attachments": {},
   "cell_type": "markdown",
   "metadata": {},
   "source": [
    "#### Average random motifs"
   ]
  },
  {
   "cell_type": "code",
   "execution_count": 13,
   "metadata": {},
   "outputs": [],
   "source": [
    "def buildRandomMotifsDF(numFC, FOMList, numRand=1000):\n",
    "    '''\n",
    "    Builds dataframe of numRand number of random network motif counts. \n",
    "    To calculate the z-score, we need to compare the real network to many randomly generated networks. This function \n",
    "        adds all of that information to a dataframe. \n",
    "\n",
    "    Input(s): numFC (Number of remaining nodes with downstream output), FOMList (Number of weights and number of \n",
    "        bias connections in each layer), numRand=1000 (number of random networks we want to generate, default 1000)\n",
    "    Returns: random network motif dataframe\n",
    "    '''\n",
    "    randomNetDF = pd.DataFrame(columns=['rSODM',\n",
    "                                        'rSOCM',\n",
    "                                        'rSOChain',\n",
    "                                        'rTODM',\n",
    "                                        'rTOCM', \n",
    "                                        'rTOChain'])\n",
    "\n",
    "    for r in range(numRand):\n",
    "        randomNet = buildRandomNet(numFC, FOMList)\n",
    "        rFOM, rFOMList, rSODM, rSOCM, rSOChain, rTODM, rTOCM, rTOChain = randomNetMotifs(randomNet)\n",
    "\n",
    "        rMotifs = [float(rSODM), float(rSOCM), float(rSOChain), float(rTODM), float(rTOCM), float(rTOChain)]\n",
    "        randomNetDF.loc[len(randomNetDF.index)] = rMotifs\n",
    "\n",
    "    return randomNetDF"
   ]
  },
  {
   "attachments": {},
   "cell_type": "markdown",
   "metadata": {},
   "source": [
    "## Z-score dataframe"
   ]
  },
  {
   "cell_type": "code",
   "execution_count": 14,
   "metadata": {},
   "outputs": [],
   "source": [
    "masksTest = masks[0:5]"
   ]
  },
  {
   "cell_type": "code",
   "execution_count": 15,
   "metadata": {},
   "outputs": [],
   "source": [
    "zscoreDF = pd.DataFrame(columns=['Sparsity Index', 'Masks',\n",
    "                                '1-O motifs (real)', \n",
    "                                'S-O diverging motifs (real)', 'S-O converging motifs (real)', \n",
    "                                'S-O chain motifs (real)',  'T-O chain motifs (real)',\n",
    "                                'T-O diverging motifs (real)', 'T-O converging motifs (real)',\n",
    "                                \n",
    "                                'Avg - S-O diverging motifs (random)', 'Avg - S-O converging motifs (random)', \n",
    "                                'Avg - S-O chain motifs (random)',  'Avg - T-O chain motifs (random)',\n",
    "                                'Avg - T-O diverging motifs (random)', 'Avg - T-O converging motifs (random)',\n",
    "                                 \n",
    "                                'SD - S-O diverging motifs (random)', 'SD - S-O converging motifs (random)', \n",
    "                                'SD - S-O chain motifs (random)',  'SD - T-O chain motifs (random)',\n",
    "                                'SD - T-O diverging motifs (random)', 'SD - T-O converging motifs (random)',\n",
    "                                \n",
    "                                'Z - S-O diverging motifs', 'Z - S-O converging motifs', \n",
    "                                'Z - S-O chain motifs',  'Z - T-O chain motifs',\n",
    "                                'Z - T-O diverging motifs', 'Z - T-O converging motifs',\n",
    "                                'Number of nodes in each layer with downstream output',\n",
    "                                'Number of nodes in each layer with upstream input', \n",
    "                                'Number of connections in each layer'])"
   ]
  },
  {
   "cell_type": "code",
   "execution_count": 18,
   "metadata": {},
   "outputs": [],
   "source": [
    "for (sparsity, m) in masksTest: \n",
    "    FOM, FOMList = fom(m)\n",
    "    SODM, numFC = sodm(m)\n",
    "    SOCM, numFCUS = socm(m)\n",
    "    SOChain = sochain(m)\n",
    "    TODM = todm(m)\n",
    "    TOCM = tocm(m)\n",
    "    TOChain = tochain(m)\n",
    "\n",
    "    randomNetDF = buildRandomMotifsDF(numFC, FOMList, numRand=1000)\n",
    "\n",
    "    AvgrSODM = randomNetDF['rSODM'].mean()\n",
    "    AvgrSOCM = randomNetDF['rSOCM'].mean()\n",
    "    AvgrSOChain = randomNetDF['rSOChain'].mean()\n",
    "    AvgrTODM = randomNetDF['rTODM'].mean()\n",
    "    AvgrTOCM = randomNetDF['rTOCM'].mean()\n",
    "    AvgrTOChain = randomNetDF['rTOChain'].mean()\n",
    "\n",
    "    SDrSODM = randomNetDF['rSODM'].std()\n",
    "    SDrSOCM = randomNetDF['rSOCM'].std()\n",
    "    SDrSOChain = randomNetDF['rSOChain'].std()\n",
    "    SDrTODM = randomNetDF['rTODM'].std()\n",
    "    SDrTOCM = randomNetDF['rTOCM'].std()\n",
    "    SDrTOChain = randomNetDF['rTOChain'].std()\n",
    "\n",
    "    ZSODM = (SODM - AvgrSODM)/SDrSODM\n",
    "    ZSOCM = (SOCM - AvgrSOCM)/SDrSOCM\n",
    "    ZSOChain = (SOChain - AvgrSOChain)/SDrSOChain\n",
    "    ZTODM = (TODM - AvgrTODM)/SDrTODM\n",
    "    ZTOCM = (TOCM - AvgrTOCM)/SDrTOCM\n",
    "    ZTOChain = (TOChain - AvgrTOChain)/SDrTOChain\n",
    "\n",
    "    zscoreData = [float(sparsity), m, \n",
    "                    float(FOM), \n",
    "                    float(SODM), float(SOCM), float(SOChain),\n",
    "                    float(TODM), float(TOCM), float(TOChain),\n",
    "\n",
    "                    float(AvgrSODM), float(AvgrSOCM), float(AvgrSOChain),\n",
    "                    float(AvgrTODM), float(AvgrTOCM), float(AvgrTOChain),\n",
    "\n",
    "                    float(SDrSODM), float(SDrSOCM), float(SDrSOChain),\n",
    "                    float(SDrTODM), float(SDrTOCM), float(SDrTOChain),\n",
    "\n",
    "                    float(ZSODM), float(ZSOCM), float(ZSOChain),\n",
    "                    float(ZTODM), float(ZTOCM), float(ZTOChain),\n",
    "\n",
    "                    numFC, numFCUS, FOMList]\n",
    "\n",
    "    zscoreDF.loc[len(zscoreDF.index)] = zscoreData\n",
    "\n",
    "    zscoreDF.to_csv(os.path.join(f, timestamp, 'zscoreDF.csv'))\n",
    "    \n"
   ]
  },
  {
   "cell_type": "code",
   "execution_count": 19,
   "metadata": {},
   "outputs": [
    {
     "name": "stdout",
     "output_type": "stream",
     "text": [
      "   Sparsity Index                                              Masks  \\\n",
      "0            12.0  [[[0.0, 0.0, 0.0, 0.0, 0.0, 0.0, -9.2233720368...   \n",
      "1            10.0  [[[0.0, 0.0, 0.0, 0.0, 0.0, 0.0, 0.0, 0.0, 0.0...   \n",
      "2            12.0  [[[1.0, 0.0, 0.0, 0.0, 0.0, 0.0, 0.0, 0.0, 0.0...   \n",
      "3            11.0  [[[0.0, 0.0, 0.0, 0.0, 0.0, 0.0, 0.0, 0.0, 0.0...   \n",
      "4            12.0  [[[0.0, 0.0, 0.0, 0.0, 0.0, 0.0, 0.0, 0.0, 0.0...   \n",
      "\n",
      "   1-O motifs (real)  S-O diverging motifs (real)  \\\n",
      "0            23142.0                     325608.0   \n",
      "1            30576.0                     563557.0   \n",
      "2            23166.0                     329361.0   \n",
      "3            26445.0                     427054.0   \n",
      "4            23141.0                     322916.0   \n",
      "\n",
      "   S-O converging motifs (real)  S-O chain motifs (real)  \\\n",
      "0                      327710.0                 143349.0   \n",
      "1                      565781.0                 162791.0   \n",
      "2                      330726.0                 142518.0   \n",
      "3                      425104.0                 154905.0   \n",
      "4                      328395.0                 143664.0   \n",
      "\n",
      "   T-O chain motifs (real)  T-O diverging motifs (real)  \\\n",
      "0                3193772.0                     327645.0   \n",
      "1                7222216.0                     565682.0   \n",
      "2                3341234.0                     330660.0   \n",
      "3                4853515.0                     425041.0   \n",
      "4                3115825.0                     328327.0   \n",
      "\n",
      "   T-O converging motifs (real)  Avg - S-O diverging motifs (random)  ...  \\\n",
      "0                       11327.0                           317742.011  ...   \n",
      "1                       12202.0                           557928.628  ...   \n",
      "2                       11756.0                           318363.079  ...   \n",
      "3                       12101.0                           414958.221  ...   \n",
      "4                       11521.0                           317144.650  ...   \n",
      "\n",
      "   SD - T-O converging motifs (random)  Z - S-O diverging motifs  \\\n",
      "0                           329.958385                 15.107416   \n",
      "1                           304.218375                  8.513508   \n",
      "2                           318.718462                 21.338953   \n",
      "3                           335.207808                 21.387324   \n",
      "4                           318.462124                 11.179130   \n",
      "\n",
      "   Z - S-O converging motifs  Z - S-O chain motifs  Z - T-O chain motifs  \\\n",
      "0                -171.117190            414.228774             16.418654   \n",
      "1                -114.571879            611.678330             11.832492   \n",
      "2                -148.821363            340.180351             25.899296   \n",
      "3                -175.881366            524.170531             24.254594   \n",
      "4                -170.453152            391.822415             12.123561   \n",
      "\n",
      "   Z - T-O diverging motifs  Z - T-O converging motifs  \\\n",
      "0               -171.097754                  15.552398   \n",
      "1               -114.569338                  13.068839   \n",
      "2               -148.929161                  17.888088   \n",
      "3               -175.914207                  16.753082   \n",
      "4               -170.513579                  15.842616   \n",
      "\n",
      "   Number of nodes in each layer with downstream output  \\\n",
      "0                           [9, 401, 401, 250, 6, 7]      \n",
      "1                           [9, 401, 400, 304, 9, 7]      \n",
      "2                           [9, 401, 401, 262, 6, 7]      \n",
      "3                           [9, 401, 401, 267, 6, 7]      \n",
      "4                          [10, 401, 401, 253, 6, 7]      \n",
      "\n",
      "   Number of nodes in each layer with upstream input  \\\n",
      "0                          [0, 176, 400, 400, 16, 7]   \n",
      "1                          [0, 248, 400, 400, 16, 7]   \n",
      "2                          [0, 174, 400, 400, 16, 7]   \n",
      "3                          [0, 191, 400, 400, 16, 7]   \n",
      "4                          [0, 172, 400, 400, 16, 7]   \n",
      "\n",
      "                 Number of connections in each layer  \n",
      "0  [[281, 1], [11199, 4], [11199, 4], [447, 0], [...  \n",
      "1  [[469, 2], [15114, 6], [14400, 0], [575, 0], [...  \n",
      "2  [[296, 0], [11199, 12], [11199, 6], [447, 0], ...  \n",
      "3  [[319, 1], [12799, 7], [12799, 1], [511, 0], [...  \n",
      "4  [[279, 2], [11199, 7], [11199, 1], [447, 0], [...  \n",
      "\n",
      "[5 rows x 30 columns]\n"
     ]
    }
   ],
   "source": [
    "print(zscoreDF.head())"
   ]
  },
  {
   "cell_type": "code",
   "execution_count": 20,
   "metadata": {},
   "outputs": [
    {
     "data": {
      "text/plain": [
       "0     [9, 401, 401, 250, 6, 7]\n",
       "1     [9, 401, 400, 304, 9, 7]\n",
       "2     [9, 401, 401, 262, 6, 7]\n",
       "3     [9, 401, 401, 267, 6, 7]\n",
       "4    [10, 401, 401, 253, 6, 7]\n",
       "Name: Number of nodes in each layer with downstream output, dtype: object"
      ]
     },
     "execution_count": 20,
     "metadata": {},
     "output_type": "execute_result"
    }
   ],
   "source": [
    "zscoreDF['Number of nodes in each layer with downstream output']"
   ]
  },
  {
   "cell_type": "code",
   "execution_count": 21,
   "metadata": {},
   "outputs": [
    {
     "data": {
      "text/plain": [
       "0    [0, 176, 400, 400, 16, 7]\n",
       "1    [0, 248, 400, 400, 16, 7]\n",
       "2    [0, 174, 400, 400, 16, 7]\n",
       "3    [0, 191, 400, 400, 16, 7]\n",
       "4    [0, 172, 400, 400, 16, 7]\n",
       "Name: Number of nodes in each layer with upstream input, dtype: object"
      ]
     },
     "execution_count": 21,
     "metadata": {},
     "output_type": "execute_result"
    }
   ],
   "source": [
    "zscoreDF['Number of nodes in each layer with upstream input']"
   ]
  },
  {
   "cell_type": "code",
   "execution_count": 24,
   "metadata": {},
   "outputs": [
    {
     "name": "stdout",
     "output_type": "stream",
     "text": [
      "[[281, 1], [11199, 4], [11199, 4], [447, 0], [7, 0]]\n",
      "[[469, 2], [15114, 6], [14400, 0], [575, 0], [10, 0]]\n",
      "[[296, 0], [11199, 12], [11199, 6], [447, 0], [7, 0]]\n",
      "[[319, 1], [12799, 7], [12799, 1], [511, 0], [8, 0]]\n",
      "[[279, 2], [11199, 7], [11199, 1], [447, 0], [7, 0]]\n"
     ]
    }
   ],
   "source": [
    "print(zscoreDF['Number of connections in each layer'][0])\n",
    "print(zscoreDF['Number of connections in each layer'][1])\n",
    "print(zscoreDF['Number of connections in each layer'][2])\n",
    "print(zscoreDF['Number of connections in each layer'][3])\n",
    "print(zscoreDF['Number of connections in each layer'][4])"
   ]
  },
  {
   "cell_type": "code",
   "execution_count": null,
   "metadata": {},
   "outputs": [],
   "source": []
  }
 ],
 "metadata": {
  "kernelspec": {
   "display_name": "Python 3",
   "language": "python",
   "name": "python3"
  },
  "language_info": {
   "codemirror_mode": {
    "name": "ipython",
    "version": 3
   },
   "file_extension": ".py",
   "mimetype": "text/x-python",
   "name": "python",
   "nbconvert_exporter": "python",
   "pygments_lexer": "ipython3",
   "version": "3.7.9 (default, Aug 31 2020, 07:22:35) \n[Clang 10.0.0 ]"
  },
  "orig_nbformat": 4,
  "vscode": {
   "interpreter": {
    "hash": "f9f85f796d01129d0dd105a088854619f454435301f6ffec2fea96ecbd9be4ac"
   }
  }
 },
 "nbformat": 4,
 "nbformat_minor": 2
}
